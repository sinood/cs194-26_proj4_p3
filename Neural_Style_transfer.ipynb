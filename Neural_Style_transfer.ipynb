{
  "nbformat": 4,
  "nbformat_minor": 0,
  "metadata": {
    "colab": {
      "name": "Neural_Style_transfer.ipynb",
      "provenance": [],
      "collapsed_sections": [],
      "mount_file_id": "17KYqcCroox4ch51_e-CCE1uvyyzzfvSq",
      "authorship_tag": "ABX9TyNsMQ/hAq9Ma67n7Vy5PDE/",
      "include_colab_link": true
    },
    "kernelspec": {
      "name": "python3",
      "display_name": "Python 3"
    },
    "accelerator": "GPU"
  },
  "cells": [
    {
      "cell_type": "markdown",
      "metadata": {
        "id": "view-in-github",
        "colab_type": "text"
      },
      "source": [
        "<a href=\"https://colab.research.google.com/github/sinood/cs194-26_proj4_p3/blob/master/Neural_Style_transfer.ipynb\" target=\"_parent\"><img src=\"https://colab.research.google.com/assets/colab-badge.svg\" alt=\"Open In Colab\"/></a>"
      ]
    },
    {
      "cell_type": "code",
      "metadata": {
        "id": "3Q_XDFoqA9X-"
      },
      "source": [
        "import os\n",
        "from PIL import Image\n",
        "import numpy as np\n",
        "import matplotlib.pyplot as plt\n",
        "import skimage as sk\n",
        "import skimage.io as skio\n",
        "import time\n",
        "import cv2\n",
        "import scipy.stats as st\n",
        "import random\n",
        "import torch\n",
        "import torch.nn as nn\n",
        "import torch.nn.functional as F\n",
        "import torch.optim as optim\n",
        "import torchvision.transforms as transforms\n",
        "import torchvision.models as models"
      ],
      "execution_count": 2,
      "outputs": []
    },
    {
      "cell_type": "code",
      "metadata": {
        "id": "2xD4PStPNr7r"
      },
      "source": [
        "DEVICE = torch.device(\"cuda\")\n",
        "# device = torch.device(\"cpu\")\n",
        "SIZE = 128\n",
        "PATH = '/content/drive/MyDrive/cs194-26_finalproj_ims/'\n",
        "\n",
        "# Need to make images same size and convert them to tensors\n",
        "im_adjust = transforms.Compose([\n",
        "    transforms.Resize(SIZE),\n",
        "    transforms.ToTensor()])\n",
        "\n",
        "def imload(imname):\n",
        "    im = Image.open(imname)\n",
        "    im = im_adjust(im)\n",
        "    im = im.unsqueeze(0)\n",
        "    return im.to(DEVICE, torch.float)\n"
      ],
      "execution_count": 4,
      "outputs": []
    },
    {
      "cell_type": "code",
      "metadata": {
        "id": "7yAtZFTmhjO5"
      },
      "source": [
        "content_im = imload(PATH+'neckarfront.jpg')\n",
        "style_im = imload(PATH+'starrynight.jpg')"
      ],
      "execution_count": 5,
      "outputs": []
    }
  ]
}